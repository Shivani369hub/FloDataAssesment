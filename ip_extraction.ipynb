{
 "cells": [
  {
   "cell_type": "code",
   "execution_count": 1,
   "metadata": {},
   "outputs": [],
   "source": [
    "import pandas as  pd\n",
    "\n",
    "df = pd.read_csv('orders_file.csv')"
   ]
  },
  {
   "cell_type": "code",
   "execution_count": 2,
   "metadata": {},
   "outputs": [],
   "source": [
    "df.drop_duplicates(subset=['order_number'], inplace=True)"
   ]
  },
  {
   "cell_type": "code",
   "execution_count": 3,
   "metadata": {},
   "outputs": [],
   "source": [
    "ip_df = pd.read_csv('ip_addresses.csv')"
   ]
  },
  {
   "cell_type": "code",
   "execution_count": 4,
   "metadata": {},
   "outputs": [],
   "source": [
    "ip_df = ip_df[ip_df['ip_address'].notna() & (ip_df['ip_address'].str.strip() != '')]"
   ]
  },
  {
   "cell_type": "code",
   "execution_count": 5,
   "metadata": {},
   "outputs": [],
   "source": [
    "ip_df['ip_address'] = ip_df['ip_address'].str.strip()"
   ]
  },
  {
   "cell_type": "code",
   "execution_count": 6,
   "metadata": {},
   "outputs": [],
   "source": [
    "ip_df.drop_duplicates(subset=['order_number'], inplace=True)"
   ]
  },
  {
   "cell_type": "code",
   "execution_count": 8,
   "metadata": {},
   "outputs": [
    {
     "data": {
      "text/html": [
       "<div>\n",
       "<style scoped>\n",
       "    .dataframe tbody tr th:only-of-type {\n",
       "        vertical-align: middle;\n",
       "    }\n",
       "\n",
       "    .dataframe tbody tr th {\n",
       "        vertical-align: top;\n",
       "    }\n",
       "\n",
       "    .dataframe thead th {\n",
       "        text-align: right;\n",
       "    }\n",
       "</style>\n",
       "<table border=\"1\" class=\"dataframe\">\n",
       "  <thead>\n",
       "    <tr style=\"text-align: right;\">\n",
       "      <th></th>\n",
       "      <th>order_number</th>\n",
       "      <th>ip_address</th>\n",
       "    </tr>\n",
       "  </thead>\n",
       "  <tbody>\n",
       "    <tr>\n",
       "      <th>66818</th>\n",
       "      <td>4YB79325SR853732T</td>\n",
       "      <td>72.74.37.27</td>\n",
       "    </tr>\n",
       "    <tr>\n",
       "      <th>7160</th>\n",
       "      <td>ch_3PLSBGD8UtMUbTdk1c6aGmLc</td>\n",
       "      <td>2600:1007:b03b:ee4d:dd51:4ec2:bb82:1a25</td>\n",
       "    </tr>\n",
       "    <tr>\n",
       "      <th>72224</th>\n",
       "      <td>78T30907UN1453151</td>\n",
       "      <td>115.64.60.160</td>\n",
       "    </tr>\n",
       "    <tr>\n",
       "      <th>36910</th>\n",
       "      <td>ch_3Ok4iUDRi8PSmLlh11rCNsGf</td>\n",
       "      <td>71.80.60.61</td>\n",
       "    </tr>\n",
       "    <tr>\n",
       "      <th>15884</th>\n",
       "      <td>1J321421A4106363D</td>\n",
       "      <td>2600:6c48:45f0:8d50:6249:f59a:af19:fc58</td>\n",
       "    </tr>\n",
       "    <tr>\n",
       "      <th>...</th>\n",
       "      <td>...</td>\n",
       "      <td>...</td>\n",
       "    </tr>\n",
       "    <tr>\n",
       "      <th>47790</th>\n",
       "      <td>5MC50412XM165420N</td>\n",
       "      <td>8.42.69.182</td>\n",
       "    </tr>\n",
       "    <tr>\n",
       "      <th>4855</th>\n",
       "      <td>ch_3Pdu7gD8UtMUbTdk0QjMYBv9</td>\n",
       "      <td>2601:500:8001:1e70:a85b:fbbf:f081:650d</td>\n",
       "    </tr>\n",
       "    <tr>\n",
       "      <th>68649</th>\n",
       "      <td>6XU18251FY853282K</td>\n",
       "      <td>2600:1700:a500:e240:f03f:3180:5d17:d960</td>\n",
       "    </tr>\n",
       "    <tr>\n",
       "      <th>42209</th>\n",
       "      <td>64J98791VL984470X</td>\n",
       "      <td>50.231.234.101</td>\n",
       "    </tr>\n",
       "    <tr>\n",
       "      <th>81766</th>\n",
       "      <td>ch_3OYWssGm2wKNF5vD0lCmoS0J</td>\n",
       "      <td>2600:387:f:6718::1</td>\n",
       "    </tr>\n",
       "  </tbody>\n",
       "</table>\n",
       "<p>200 rows × 2 columns</p>\n",
       "</div>"
      ],
      "text/plain": [
       "                      order_number                               ip_address\n",
       "66818            4YB79325SR853732T                              72.74.37.27\n",
       "7160   ch_3PLSBGD8UtMUbTdk1c6aGmLc  2600:1007:b03b:ee4d:dd51:4ec2:bb82:1a25\n",
       "72224            78T30907UN1453151                            115.64.60.160\n",
       "36910  ch_3Ok4iUDRi8PSmLlh11rCNsGf                              71.80.60.61\n",
       "15884            1J321421A4106363D  2600:6c48:45f0:8d50:6249:f59a:af19:fc58\n",
       "...                            ...                                      ...\n",
       "47790            5MC50412XM165420N                              8.42.69.182\n",
       "4855   ch_3Pdu7gD8UtMUbTdk0QjMYBv9   2601:500:8001:1e70:a85b:fbbf:f081:650d\n",
       "68649            6XU18251FY853282K  2600:1700:a500:e240:f03f:3180:5d17:d960\n",
       "42209            64J98791VL984470X                           50.231.234.101\n",
       "81766  ch_3OYWssGm2wKNF5vD0lCmoS0J                       2600:387:f:6718::1\n",
       "\n",
       "[200 rows x 2 columns]"
      ]
     },
     "execution_count": 8,
     "metadata": {},
     "output_type": "execute_result"
    }
   ],
   "source": [
    "pd.merge(ip_df,df,how='inner',on='order_number').sample(200)[['order_number','ip_address']]"
   ]
  },
  {
   "cell_type": "code",
   "execution_count": null,
   "metadata": {},
   "outputs": [],
   "source": [
    "pd.merge(ip_df,df,how='inner',on='order_number').sample(200)[['order_number','ip_address']].to_csv('ip_addresses_test.csv',index=False)"
   ]
  }
 ],
 "metadata": {
  "kernelspec": {
   "display_name": ".venv",
   "language": "python",
   "name": "python3"
  },
  "language_info": {
   "codemirror_mode": {
    "name": "ipython",
    "version": 3
   },
   "file_extension": ".py",
   "mimetype": "text/x-python",
   "name": "python",
   "nbconvert_exporter": "python",
   "pygments_lexer": "ipython3",
   "version": "3.10.12"
  }
 },
 "nbformat": 4,
 "nbformat_minor": 2
}
